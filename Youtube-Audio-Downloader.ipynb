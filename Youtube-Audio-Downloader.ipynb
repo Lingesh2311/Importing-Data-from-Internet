{
 "cells": [
  {
   "cell_type": "markdown",
   "metadata": {},
   "source": [
    "## Downloading Audio from Youtube Playlist\n",
    "\n",
    "This is a simple script to download your favourite Youtube Playlist audio file. This utilizes the `pafy` library. It is a library whose objects relate to videos hosted on YouTube. They hold metadata such as *title*, *viewcount*, *author* and *video ID*."
   ]
  },
  {
   "cell_type": "code",
   "execution_count": null,
   "metadata": {},
   "outputs": [],
   "source": [
    "import pafy\n",
    "\n",
    "pl_url = \"https://www.youtube.com/watch?v=Tztc73r8348&list=PL3oW2tjiIxvQ98ZTLhBh5soCbE1mC3uAT\" # Playlist URL\n",
    "playlist = pafy.get_playlist(pl_url) # Creating an object of my playlist\n",
    "\n",
    "for i in range(len(playlist['items'])):\n",
    "    id = playlist['items'][i]['playlist_meta']['encrypted_id']\n",
    "    url = \"https://www.youtube.com/playlist?list=PLxDnZEreOMki3pbl4DYPoom42d6xh4y1F\"+\"&v=\"+id+\"&index=\"+str(i+1)\n",
    "    print('Current title: ',playlist['items'][i]['playlist_meta']['title'])\n",
    "    video = pafy.new(url)\n",
    "    bestaudio = video.getbestaudio()\n",
    "    bestaudio.download(filepath='/Music/') "
   ]
  },
  {
   "cell_type": "markdown",
   "metadata": {},
   "source": [
    "### Single Video Audio Download\n",
    "This can be used to download best audio version from a single video."
   ]
  },
  {
   "cell_type": "code",
   "execution_count": null,
   "metadata": {},
   "outputs": [],
   "source": [
    "url = \"https://www.youtube.com/watch?v=kJQP7kiw5Fk\" # Despacito!\n",
    "video = pafy.new(url)\n",
    "bestaudio = video.getbestaudio()\n",
    "bestaudio.download(filepath='/Music/')"
   ]
  }
 ],
 "metadata": {
  "kernelspec": {
   "display_name": "Python 3",
   "language": "python",
   "name": "python3"
  },
  "language_info": {
   "codemirror_mode": {
    "name": "ipython",
    "version": 3
   },
   "file_extension": ".py",
   "mimetype": "text/x-python",
   "name": "python",
   "nbconvert_exporter": "python",
   "pygments_lexer": "ipython3",
   "version": "3.6.8"
  }
 },
 "nbformat": 4,
 "nbformat_minor": 2
}
