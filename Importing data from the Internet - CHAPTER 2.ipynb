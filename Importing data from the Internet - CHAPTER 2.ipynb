{
 "cells": [
  {
   "cell_type": "markdown",
   "metadata": {},
   "source": [
    "<h1> Introduction to API's and JSON's</h1>\n",
    "\n",
    "__APIs__\n",
    "\n",
    "- Application Programming Interface\n",
    "- Protocols and routines\n",
    "    - Building and interacting with software applications\n",
    "We will use the Open Movie Database (OMDb) API here.\n",
    "\n",
    "__JSONs__\n",
    "Standard form of transferring data through API are JSON file format.\n",
    "\n",
    "- JavaScript Object Notation - It's a file format that arose out of a growing need for real-time server to browser communication that wouldn't necessarily rely on Flash or Java.\n",
    "- Douglas Crockford\n",
    "- Human Readable. e.g. Pickled Files\n",
    "- Consists of __Name: value__ pairs like __key: value__ pairs in Python Dictionary\n",
    "- While loading JSON files in Python we will store them as dictionaries!\n",
    "- __Keys__ in JSON's are always strings \n",
    "- __Values__ can be strings, integers, arrays or even objects. They can also be JSON's which is the domain of nested JSONs!"
   ]
  },
  {
   "cell_type": "markdown",
   "metadata": {},
   "source": [
    "<h3> <strong> Loading JSONs in Python </strong> </h3>"
   ]
  },
  {
   "cell_type": "code",
   "execution_count": 10,
   "metadata": {},
   "outputs": [
    {
     "name": "stdout",
     "output_type": "stream",
     "text": [
      "Actors: Jesse Eisenberg, Rooney Mara, Bryan Barter, Dustin Fitzsimons\n",
      "Awards: Won 3 Oscars. Another 165 wins & 168 nominations.\n",
      "BoxOffice: $96,400,000\n",
      "Country: USA\n",
      "DVD: 11 Jan 2011\n",
      "Director: David Fincher\n",
      "Genre: Biography, Drama\n",
      "Language: English, French\n",
      "Metascore: 95\n",
      "Plot: Harvard student Mark Zuckerberg creates the social networking site that would become known as Facebook, but is later sued by two brothers who claimed he stole their idea, and the co-founder who was later squeezed out of the business.\n",
      "Poster: https://m.media-amazon.com/images/M/MV5BOGUyZDUxZjEtMmIzMC00MzlmLTg4MGItZWJmMzBhZjE0Mjc1XkEyXkFqcGdeQXVyMTMxODk2OTU@._V1_SX300.jpg\n",
      "Production: Columbia Pictures\n",
      "Rated: PG-13\n",
      "Ratings: [{'Source': 'Internet Movie Database', 'Value': '7.7/10'}, {'Source': 'Rotten Tomatoes', 'Value': '95%'}, {'Source': 'Metacritic', 'Value': '95/100'}]\n",
      "Released: 01 Oct 2010\n",
      "Response: True\n",
      "Runtime: 120 min\n",
      "Title: The Social Network\n",
      "Type: movie\n",
      "Website: http://www.thesocialnetwork-movie.com/\n",
      "Writer: Aaron Sorkin (screenplay), Ben Mezrich (book)\n",
      "Year: 2010\n",
      "imdbID: tt1285016\n",
      "imdbRating: 7.7\n",
      "imdbVotes: 559,522\n"
     ]
    }
   ],
   "source": [
    "# import the json library\n",
    "import json\n",
    "# Get the data using the file load() method\n",
    "with open('a_movies.json','r') as json_file:\n",
    "    json_data = json.load(json_file)\n",
    "type(json_data) # Will print <class: 'dict'>\n",
    "# Printing the key value pairs\n",
    "for key, value in json_data.items():\n",
    "    print(key+':',value)"
   ]
  },
  {
   "cell_type": "markdown",
   "metadata": {},
   "source": [
    "<h3> Connecting to an API in Python </h3>\n",
    "<br>\n",
    "Here, what is this - __?t=hackers__\n",
    "\n",
    "- Query string\n",
    "- Returns data for a movie with title(t) 'Hackers'"
   ]
  },
  {
   "cell_type": "code",
   "execution_count": 15,
   "metadata": {},
   "outputs": [
    {
     "name": "stdout",
     "output_type": "stream",
     "text": [
      "Title: The Social Network\n",
      "Year: 2010\n",
      "Rated: PG-13\n",
      "Released: 01 Oct 2010\n",
      "Runtime: 120 min\n",
      "Genre: Biography, Drama\n",
      "Director: David Fincher\n",
      "Writer: Aaron Sorkin (screenplay), Ben Mezrich (book)\n",
      "Actors: Jesse Eisenberg, Rooney Mara, Bryan Barter, Dustin Fitzsimons\n",
      "Plot: Harvard student Mark Zuckerberg creates the social networking site that would become known as Facebook, but is later sued by two brothers who claimed he stole their idea, and the co-founder who was later squeezed out of the business.\n",
      "Language: English, French\n",
      "Country: USA\n",
      "Awards: Won 3 Oscars. Another 165 wins & 168 nominations.\n",
      "Poster: https://m.media-amazon.com/images/M/MV5BOGUyZDUxZjEtMmIzMC00MzlmLTg4MGItZWJmMzBhZjE0Mjc1XkEyXkFqcGdeQXVyMTMxODk2OTU@._V1_SX300.jpg\n",
      "Ratings: [{'Source': 'Internet Movie Database', 'Value': '7.7/10'}, {'Source': 'Rotten Tomatoes', 'Value': '95%'}, {'Source': 'Metacritic', 'Value': '95/100'}]\n",
      "Metascore: 95\n",
      "imdbRating: 7.7\n",
      "imdbVotes: 559,522\n",
      "imdbID: tt1285016\n",
      "Type: movie\n",
      "DVD: 11 Jan 2011\n",
      "BoxOffice: $96,400,000\n",
      "Production: Columbia Pictures\n",
      "Website: http://www.thesocialnetwork-movie.com/\n",
      "Response: True\n"
     ]
    }
   ],
   "source": [
    "import requests\n",
    "# Get the URL\n",
    "url = 'http://www.omdbapi.com/?apikey=72bc447a&t=the+social+network'\n",
    "# Get the Requests\n",
    "r = requests.get(url)\n",
    "# Get the JSON data\n",
    "json_data = r.json()\n",
    "# Print the Key value pairs\n",
    "for key, value in json_data.items():\n",
    "    print(key+':',value)"
   ]
  },
  {
   "cell_type": "markdown",
   "metadata": {},
   "source": [
    "__TASK: GET THE WIKIPEDIA PAGE EXTRACT__"
   ]
  },
  {
   "cell_type": "code",
   "execution_count": 16,
   "metadata": {},
   "outputs": [
    {
     "name": "stdout",
     "output_type": "stream",
     "text": [
      "<p class=\"mw-empty-elt\">\n",
      "</p>\n",
      "\n",
      "<p><b>Pizza</b> is a savory dish of Italian origin, consisting of a usually round, flattened base of leavened wheat-based dough topped with tomatoes, cheese, and various other ingredients (anchovies, olives, meat, etc.) baked at a high temperature, traditionally in a  wood-fired oven. In formal settings, like a restaurant, pizza is  eaten with knife and fork, but in casual settings it is cut into wedges to be eaten while held in the hand. Small pizzas are sometimes called pizzettas.   \n",
      "</p><p>The term <i>pizza</i> was first recorded in the 10th century in a Latin manuscript from the Southern Italian town of Gaeta in Lazio, on the border with Campania. Modern pizza was invented in Naples, and the dish and its variants have since become popular in many countries. It has become one of the most popular foods in the world and a common fast food item in Europe and North America, available at  pizzerias (restaurants specializing in pizza),  restaurants offering Mediterranean cuisine, and via pizza delivery. Many companies sell ready-baked frozen pizzas to be reheated in an ordinary home oven. \n",
      "</p><p>The <i>Associazione Verace Pizza Napoletana</i> (lit. True Neapolitan Pizza Association) is  a non-profit organization founded in 1984 with headquarters in Naples that aims to promote traditional Neapolitan pizza. In 2009, upon Italy's request, Neapolitan pizza was registered with the European Union as a Traditional Speciality Guaranteed dish, and in 2017 the art of its making was included on UNESCO's list of intangible cultural heritage.</p>\n"
     ]
    }
   ],
   "source": [
    "# Import package\n",
    "import requests\n",
    "\n",
    "# Assign URL to variable: url\n",
    "url = 'https://en.wikipedia.org/w/api.php?action=query&prop=extracts&format=json&exintro=&titles=pizza'\n",
    "\n",
    "# Package the request, send the request and catch the response: r\n",
    "r = requests.get(url)\n",
    "\n",
    "# Decode the JSON data into a dictionary: json_data\n",
    "json_data = r.json()\n",
    "\n",
    "# Print the Wikipedia page extract\n",
    "pizza_extract = json_data['query']['pages']['24768']['extract']\n",
    "\n",
    "print(pizza_extract)"
   ]
  },
  {
   "cell_type": "code",
   "execution_count": null,
   "metadata": {},
   "outputs": [],
   "source": []
  }
 ],
 "metadata": {
  "kernelspec": {
   "display_name": "Python 3",
   "language": "python",
   "name": "python3"
  },
  "language_info": {
   "codemirror_mode": {
    "name": "ipython",
    "version": 3
   },
   "file_extension": ".py",
   "mimetype": "text/x-python",
   "name": "python",
   "nbconvert_exporter": "python",
   "pygments_lexer": "ipython3",
   "version": "3.7.1"
  }
 },
 "nbformat": 4,
 "nbformat_minor": 2
}
